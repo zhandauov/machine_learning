{
 "cells": [
  {
   "cell_type": "code",
   "execution_count": 1,
   "metadata": {},
   "outputs": [],
   "source": [
    "import sys\n",
    "import numpy as np\n",
    "import pandas as pd\n",
    "import matplotlib.pyplot as plt"
   ]
  },
  {
   "cell_type": "code",
   "execution_count": 3,
   "metadata": {},
   "outputs": [],
   "source": [
    "my_data = pd.read_csv('train_data.csv')"
   ]
  },
  {
   "cell_type": "code",
   "execution_count": 5,
   "metadata": {
    "scrolled": true
   },
   "outputs": [
    {
     "data": {
      "text/html": [
       "<div>\n",
       "<style scoped>\n",
       "    .dataframe tbody tr th:only-of-type {\n",
       "        vertical-align: middle;\n",
       "    }\n",
       "\n",
       "    .dataframe tbody tr th {\n",
       "        vertical-align: top;\n",
       "    }\n",
       "\n",
       "    .dataframe thead th {\n",
       "        text-align: right;\n",
       "    }\n",
       "</style>\n",
       "<table border=\"1\" class=\"dataframe\">\n",
       "  <thead>\n",
       "    <tr style=\"text-align: right;\">\n",
       "      <th></th>\n",
       "      <th>T</th>\n",
       "      <th>V</th>\n",
       "      <th>P</th>\n",
       "      <th>RH</th>\n",
       "      <th>E</th>\n",
       "    </tr>\n",
       "  </thead>\n",
       "  <tbody>\n",
       "    <tr>\n",
       "      <th>0</th>\n",
       "      <td>273.39</td>\n",
       "      <td>420.12</td>\n",
       "      <td>91.84</td>\n",
       "      <td>57.41</td>\n",
       "      <td>1778.12</td>\n",
       "    </tr>\n",
       "    <tr>\n",
       "      <th>1</th>\n",
       "      <td>195.26</td>\n",
       "      <td>248.88</td>\n",
       "      <td>92.29</td>\n",
       "      <td>35.21</td>\n",
       "      <td>1824.16</td>\n",
       "    </tr>\n",
       "    <tr>\n",
       "      <th>2</th>\n",
       "      <td>377.52</td>\n",
       "      <td>360.42</td>\n",
       "      <td>92.31</td>\n",
       "      <td>27.69</td>\n",
       "      <td>1761.72</td>\n",
       "    </tr>\n",
       "    <tr>\n",
       "      <th>3</th>\n",
       "      <td>171.60</td>\n",
       "      <td>244.98</td>\n",
       "      <td>91.61</td>\n",
       "      <td>56.99</td>\n",
       "      <td>1889.64</td>\n",
       "    </tr>\n",
       "    <tr>\n",
       "      <th>4</th>\n",
       "      <td>222.56</td>\n",
       "      <td>353.70</td>\n",
       "      <td>92.43</td>\n",
       "      <td>54.25</td>\n",
       "      <td>1806.68</td>\n",
       "    </tr>\n",
       "  </tbody>\n",
       "</table>\n",
       "</div>"
      ],
      "text/plain": [
       "        T       V      P     RH        E\n",
       "0  273.39  420.12  91.84  57.41  1778.12\n",
       "1  195.26  248.88  92.29  35.21  1824.16\n",
       "2  377.52  360.42  92.31  27.69  1761.72\n",
       "3  171.60  244.98  91.61  56.99  1889.64\n",
       "4  222.56  353.70  92.43  54.25  1806.68"
      ]
     },
     "execution_count": 5,
     "metadata": {},
     "output_type": "execute_result"
    }
   ],
   "source": [
    "my_data.head()"
   ]
  },
  {
   "cell_type": "code",
   "execution_count": 22,
   "metadata": {},
   "outputs": [
    {
     "data": {
      "text/html": [
       "<div>\n",
       "<style scoped>\n",
       "    .dataframe tbody tr th:only-of-type {\n",
       "        vertical-align: middle;\n",
       "    }\n",
       "\n",
       "    .dataframe tbody tr th {\n",
       "        vertical-align: top;\n",
       "    }\n",
       "\n",
       "    .dataframe thead th {\n",
       "        text-align: right;\n",
       "    }\n",
       "</style>\n",
       "<table border=\"1\" class=\"dataframe\">\n",
       "  <thead>\n",
       "    <tr style=\"text-align: right;\">\n",
       "      <th></th>\n",
       "      <th>T</th>\n",
       "      <th>V</th>\n",
       "      <th>P</th>\n",
       "      <th>RH</th>\n",
       "      <th>E</th>\n",
       "    </tr>\n",
       "  </thead>\n",
       "  <tbody>\n",
       "    <tr>\n",
       "      <th>0</th>\n",
       "      <td>0.182577</td>\n",
       "      <td>1.244001</td>\n",
       "      <td>-0.504386</td>\n",
       "      <td>1.509194</td>\n",
       "      <td>-0.584625</td>\n",
       "    </tr>\n",
       "    <tr>\n",
       "      <th>1</th>\n",
       "      <td>-0.638217</td>\n",
       "      <td>-1.000649</td>\n",
       "      <td>0.330276</td>\n",
       "      <td>-1.021259</td>\n",
       "      <td>0.106723</td>\n",
       "    </tr>\n",
       "    <tr>\n",
       "      <th>2</th>\n",
       "      <td>1.276514</td>\n",
       "      <td>0.461441</td>\n",
       "      <td>0.367372</td>\n",
       "      <td>-1.878422</td>\n",
       "      <td>-0.830892</td>\n",
       "    </tr>\n",
       "    <tr>\n",
       "      <th>3</th>\n",
       "      <td>-0.886777</td>\n",
       "      <td>-1.051771</td>\n",
       "      <td>-0.930992</td>\n",
       "      <td>1.461321</td>\n",
       "      <td>1.089986</td>\n",
       "    </tr>\n",
       "    <tr>\n",
       "      <th>4</th>\n",
       "      <td>-0.351417</td>\n",
       "      <td>0.373354</td>\n",
       "      <td>0.589949</td>\n",
       "      <td>1.149004</td>\n",
       "      <td>-0.155761</td>\n",
       "    </tr>\n",
       "  </tbody>\n",
       "</table>\n",
       "</div>"
      ],
      "text/plain": [
       "          T         V         P        RH         E\n",
       "0  0.182577  1.244001 -0.504386  1.509194 -0.584625\n",
       "1 -0.638217 -1.000649  0.330276 -1.021259  0.106723\n",
       "2  1.276514  0.461441  0.367372 -1.878422 -0.830892\n",
       "3 -0.886777 -1.051771 -0.930992  1.461321  1.089986\n",
       "4 -0.351417  0.373354  0.589949  1.149004 -0.155761"
      ]
     },
     "execution_count": 22,
     "metadata": {},
     "output_type": "execute_result"
    }
   ],
   "source": [
    "my_data = (my_data - my_data.mean())/my_data.std()\n",
    "my_data.head()"
   ]
  },
  {
   "cell_type": "code",
   "execution_count": 23,
   "metadata": {},
   "outputs": [],
   "source": [
    "X = my_data.iloc[:,0:4]\n",
    "ones = np.ones([X.shape[0],1])\n",
    "X = np.concatenate((ones,X),axis=1)\n",
    "\n",
    "y = my_data.iloc[:,4:5].values\n",
    "theta = np.zeros([1,5])\n",
    "\n",
    "alpha = 0.01\n",
    "iters = 1000"
   ]
  },
  {
   "cell_type": "code",
   "execution_count": 24,
   "metadata": {},
   "outputs": [
    {
     "data": {
      "text/plain": [
       "array([[ 1.        ,  0.18257687,  1.24400075, -0.50438644,  1.50919422],\n",
       "       [ 1.        , -0.63821738, -1.00064895,  0.33027588, -1.02125901],\n",
       "       [ 1.        ,  1.27651397,  0.46144068,  0.36737198, -1.87842155],\n",
       "       ...,\n",
       "       [ 1.        ,  0.35602258,  0.23493083, -1.15356825,  0.11402541],\n",
       "       [ 1.        ,  0.40655401,  0.51649515,  0.73833301,  0.39784652],\n",
       "       [ 1.        , -0.70923452, -0.03011716,  0.60849665, -0.73401837]])"
      ]
     },
     "execution_count": 24,
     "metadata": {},
     "output_type": "execute_result"
    }
   ],
   "source": [
    "X"
   ]
  },
  {
   "cell_type": "code",
   "execution_count": 25,
   "metadata": {},
   "outputs": [],
   "source": [
    "def computeCost(X,y,theta):\n",
    "    tobesummed = np.power(((X @ theta.T)-y),2)\n",
    "    return np.sum(tobesummed)/(2 * len(X))"
   ]
  },
  {
   "cell_type": "code",
   "execution_count": 26,
   "metadata": {},
   "outputs": [
    {
     "name": "stdout",
     "output_type": "stream",
     "text": [
      "[[-3.44902262e-14 -6.94323630e-01 -3.03836111e-01  4.80692579e-02\n",
      "  -8.40712700e-02]]\n",
      "0.03790701042594516\n"
     ]
    }
   ],
   "source": [
    "def gradientDescent(X,y,theta,iters,alpha):\n",
    "    cost = np.zeros(iters)\n",
    "    for i in range(iters):\n",
    "        theta = theta - (alpha/len(X)) * np.sum(X * (X @ theta.T - y), axis=0)\n",
    "        cost[i] = computeCost(X, y, theta)\n",
    "    \n",
    "    return theta,cost\n",
    "\n",
    "g,cost = gradientDescent(X,y,theta,iters,alpha)\n",
    "print(g)\n",
    "\n",
    "finalCost = computeCost(X,y,g)\n",
    "print(finalCost)"
   ]
  },
  {
   "cell_type": "code",
   "execution_count": 27,
   "metadata": {},
   "outputs": [
    {
     "name": "stdout",
     "output_type": "stream",
     "text": [
      "[[-3.44902262e-14 -6.94323630e-01 -3.03836111e-01  4.80692579e-02\n",
      "  -8.40712700e-02]]\n",
      "0.03790701042594516\n"
     ]
    }
   ],
   "source": [
    "g,cost = gradientDescent(X,y,theta,iters,alpha)\n",
    "print(g)\n",
    "finalCost = computeCost(X,y,g)\n",
    "print(finalCost)"
   ]
  },
  {
   "cell_type": "code",
   "execution_count": 28,
   "metadata": {},
   "outputs": [
    {
     "data": {
      "text/plain": [
       "array([0.47942269, 0.46005288, 0.44159496, 0.42400549, 0.40724309,\n",
       "       0.39126839, 0.37604386, 0.36153379, 0.34770418, 0.33452262,\n",
       "       0.32195829, 0.30998181, 0.29856522, 0.28768189, 0.27730646,\n",
       "       0.26741478, 0.25798385, 0.24899178, 0.24041772, 0.23224181,\n",
       "       0.22444515, 0.21700971, 0.20991837, 0.20315479, 0.19670341,\n",
       "       0.19054944, 0.18467877, 0.17907798, 0.17373427, 0.16863547,\n",
       "       0.16376998, 0.15912676, 0.1546953 , 0.15046556, 0.14642803,\n",
       "       0.14257361, 0.13889365, 0.13537992, 0.13202457, 0.12882013,\n",
       "       0.12575949, 0.12283586, 0.1200428 , 0.11737415, 0.11482407,\n",
       "       0.11238697, 0.11005756, 0.10783077, 0.10570178, 0.10366601,\n",
       "       0.1017191 , 0.09985688, 0.09807538, 0.09637083, 0.09473965,\n",
       "       0.09317839, 0.09168381, 0.0902528 , 0.08888239, 0.08756976,\n",
       "       0.08631225, 0.08510727, 0.08395241, 0.08284534, 0.08178384,\n",
       "       0.08076582, 0.07978927, 0.07885228, 0.07795302, 0.07708977,\n",
       "       0.07626087, 0.07546474, 0.0746999 , 0.0739649 , 0.07325839,\n",
       "       0.07257908, 0.07192572, 0.07129714, 0.07069221, 0.07010988,\n",
       "       0.06954912, 0.06900896, 0.06848847, 0.06798678, 0.06750304,\n",
       "       0.06703646, 0.06658627, 0.06615174, 0.06573218, 0.06532694,\n",
       "       0.06493538, 0.0645569 , 0.06419093, 0.06383692, 0.06349436,\n",
       "       0.06316275, 0.06284161, 0.06253051, 0.062229  , 0.06193667,\n",
       "       0.06165315, 0.06137804, 0.06111101, 0.06085171, 0.06059981,\n",
       "       0.06035502, 0.06011703, 0.05988557, 0.05966036, 0.05944116,\n",
       "       0.05922771, 0.05901979, 0.05881718, 0.05861965, 0.05842702,\n",
       "       0.05823909, 0.05805567, 0.05787659, 0.05770168, 0.05753078,\n",
       "       0.05736373, 0.0572004 , 0.05704064, 0.05688431, 0.0567313 ,\n",
       "       0.05658148, 0.05643472, 0.05629093, 0.05615   , 0.05601182,\n",
       "       0.05587629, 0.05574333, 0.05561285, 0.05548475, 0.05535897,\n",
       "       0.05523541, 0.05511401, 0.0549947 , 0.0548774 , 0.05476206,\n",
       "       0.0546486 , 0.05453698, 0.05442713, 0.05431899, 0.05421252,\n",
       "       0.05410767, 0.05400438, 0.05390262, 0.05380232, 0.05370347,\n",
       "       0.053606  , 0.05350989, 0.05341509, 0.05332157, 0.05322929,\n",
       "       0.05313823, 0.05304835, 0.05295961, 0.05287199, 0.05278547,\n",
       "       0.0527    , 0.05261558, 0.05253216, 0.05244973, 0.05236826,\n",
       "       0.05228774, 0.05220813, 0.05212942, 0.05205159, 0.05197462,\n",
       "       0.05189849, 0.05182317, 0.05174867, 0.05167494, 0.05160199,\n",
       "       0.0515298 , 0.05145834, 0.05138761, 0.05131758, 0.05124826,\n",
       "       0.05117961, 0.05111164, 0.05104433, 0.05097766, 0.05091162,\n",
       "       0.05084621, 0.05078141, 0.0507172 , 0.05065359, 0.05059056,\n",
       "       0.0505281 , 0.0504662 , 0.05040485, 0.05034405, 0.05028378,\n",
       "       0.05022403, 0.0501648 , 0.05010608, 0.05004786, 0.04999014,\n",
       "       0.0499329 , 0.04987614, 0.04981985, 0.04976402, 0.04970866,\n",
       "       0.04965374, 0.04959927, 0.04954524, 0.04949164, 0.04943847,\n",
       "       0.04938572, 0.04933338, 0.04928146, 0.04922994, 0.04917881,\n",
       "       0.04912809, 0.04907774, 0.04902779, 0.04897821, 0.048929  ,\n",
       "       0.04888017, 0.0488317 , 0.04878358, 0.04873583, 0.04868842,\n",
       "       0.04864136, 0.04859465, 0.04854827, 0.04850223, 0.04845651,\n",
       "       0.04841113, 0.04836606, 0.04832132, 0.04827689, 0.04823277,\n",
       "       0.04818896, 0.04814545, 0.04810225, 0.04805934, 0.04801673,\n",
       "       0.04797441, 0.04793237, 0.04789062, 0.04784916, 0.04780797,\n",
       "       0.04776705, 0.04772641, 0.04768604, 0.04764593, 0.04760609,\n",
       "       0.0475665 , 0.04752718, 0.04748811, 0.04744929, 0.04741073,\n",
       "       0.04737241, 0.04733433, 0.0472965 , 0.0472589 , 0.04722155,\n",
       "       0.04718442, 0.04714753, 0.04711087, 0.04707444, 0.04703823,\n",
       "       0.04700225, 0.04696648, 0.04693094, 0.04689561, 0.04686049,\n",
       "       0.04682559, 0.04679089, 0.04675641, 0.04672212, 0.04668805,\n",
       "       0.04665417, 0.04662049, 0.04658702, 0.04655373, 0.04652064,\n",
       "       0.04648774, 0.04645504, 0.04642252, 0.04639018, 0.04635804,\n",
       "       0.04632607, 0.04629428, 0.04626268, 0.04623125, 0.0462    ,\n",
       "       0.04616892, 0.04613802, 0.04610728, 0.04607672, 0.04604632,\n",
       "       0.04601609, 0.04598602, 0.04595612, 0.04592638, 0.04589679,\n",
       "       0.04586737, 0.0458381 , 0.04580899, 0.04578004, 0.04575123,\n",
       "       0.04572258, 0.04569408, 0.04566573, 0.04563752, 0.04560946,\n",
       "       0.04558155, 0.04555378, 0.04552615, 0.04549866, 0.04547131,\n",
       "       0.0454441 , 0.04541702, 0.04539008, 0.04536328, 0.04533661,\n",
       "       0.04531007, 0.04528367, 0.04525739, 0.04523124, 0.04520522,\n",
       "       0.04517933, 0.04515356, 0.04512792, 0.0451024 , 0.045077  ,\n",
       "       0.04505172, 0.04502656, 0.04500153, 0.04497661, 0.0449518 ,\n",
       "       0.04492712, 0.04490255, 0.04487809, 0.04485375, 0.04482951,\n",
       "       0.04480539, 0.04478138, 0.04475748, 0.04473369, 0.04471001,\n",
       "       0.04468643, 0.04466296, 0.04463959, 0.04461633, 0.04459317,\n",
       "       0.04457011, 0.04454716, 0.0445243 , 0.04450155, 0.04447889,\n",
       "       0.04445633, 0.04443387, 0.04441151, 0.04438924, 0.04436707,\n",
       "       0.04434499, 0.04432301, 0.04430112, 0.04427932, 0.04425761,\n",
       "       0.044236  , 0.04421447, 0.04419303, 0.04417169, 0.04415043,\n",
       "       0.04412925, 0.04410817, 0.04408717, 0.04406625, 0.04404542,\n",
       "       0.04402467, 0.04400401, 0.04398343, 0.04396293, 0.04394251,\n",
       "       0.04392218, 0.04390192, 0.04388175, 0.04386165, 0.04384163,\n",
       "       0.04382169, 0.04380183, 0.04378204, 0.04376233, 0.04374269,\n",
       "       0.04372313, 0.04370365, 0.04368424, 0.0436649 , 0.04364563,\n",
       "       0.04362644, 0.04360732, 0.04358827, 0.04356929, 0.04355038,\n",
       "       0.04353154, 0.04351277, 0.04349407, 0.04347544, 0.04345687,\n",
       "       0.04343838, 0.04341995, 0.04340158, 0.04338329, 0.04336505,\n",
       "       0.04334689, 0.04332879, 0.04331075, 0.04329277, 0.04327486,\n",
       "       0.04325701, 0.04323923, 0.0432215 , 0.04320384, 0.04318624,\n",
       "       0.0431687 , 0.04315122, 0.0431338 , 0.04311644, 0.04309914,\n",
       "       0.0430819 , 0.04306472, 0.04304759, 0.04303053, 0.04301352,\n",
       "       0.04299656, 0.04297967, 0.04296283, 0.04294604, 0.04292932,\n",
       "       0.04291264, 0.04289602, 0.04287946, 0.04286295, 0.04284649,\n",
       "       0.04283009, 0.04281374, 0.04279744, 0.0427812 , 0.04276501,\n",
       "       0.04274887, 0.04273278, 0.04271674, 0.04270076, 0.04268482,\n",
       "       0.04266893, 0.0426531 , 0.04263731, 0.04262158, 0.04260589,\n",
       "       0.04259025, 0.04257466, 0.04255912, 0.04254362, 0.04252818,\n",
       "       0.04251278, 0.04249743, 0.04248212, 0.04246687, 0.04245165,\n",
       "       0.04243649, 0.04242137, 0.0424063 , 0.04239127, 0.04237628,\n",
       "       0.04236134, 0.04234645, 0.0423316 , 0.04231679, 0.04230203,\n",
       "       0.04228731, 0.04227264, 0.04225801, 0.04224342, 0.04222887,\n",
       "       0.04221436, 0.0421999 , 0.04218548, 0.0421711 , 0.04215677,\n",
       "       0.04214247, 0.04212822, 0.042114  , 0.04209983, 0.0420857 ,\n",
       "       0.04207161, 0.04205755, 0.04204354, 0.04202957, 0.04201563,\n",
       "       0.04200174, 0.04198788, 0.04197407, 0.04196029, 0.04194655,\n",
       "       0.04193285, 0.04191919, 0.04190556, 0.04189197, 0.04187842,\n",
       "       0.04186491, 0.04185143, 0.04183799, 0.04182459, 0.04181123,\n",
       "       0.0417979 , 0.0417846 , 0.04177135, 0.04175813, 0.04174494,\n",
       "       0.04173179, 0.04171868, 0.0417056 , 0.04169255, 0.04167954,\n",
       "       0.04166657, 0.04165363, 0.04164072, 0.04162785, 0.04161501,\n",
       "       0.04160221, 0.04158944, 0.0415767 , 0.041564  , 0.04155133,\n",
       "       0.0415387 , 0.04152609, 0.04151352, 0.04150099, 0.04148848,\n",
       "       0.04147601, 0.04146357, 0.04145116, 0.04143878, 0.04142644,\n",
       "       0.04141413, 0.04140185, 0.0413896 , 0.04137738, 0.04136519,\n",
       "       0.04135304, 0.04134091, 0.04132882, 0.04131676, 0.04130472,\n",
       "       0.04129272, 0.04128075, 0.04126881, 0.0412569 , 0.04124501,\n",
       "       0.04123316, 0.04122134, 0.04120955, 0.04119778, 0.04118605,\n",
       "       0.04117434, 0.04116267, 0.04115102, 0.0411394 , 0.04112782,\n",
       "       0.04111625, 0.04110472, 0.04109322, 0.04108174, 0.0410703 ,\n",
       "       0.04105888, 0.04104749, 0.04103612, 0.04102479, 0.04101348,\n",
       "       0.0410022 , 0.04099095, 0.04097972, 0.04096853, 0.04095735,\n",
       "       0.04094621, 0.04093509, 0.040924  , 0.04091294, 0.0409019 ,\n",
       "       0.04089089, 0.04087991, 0.04086895, 0.04085802, 0.04084712,\n",
       "       0.04083624, 0.04082538, 0.04081456, 0.04080376, 0.04079298,\n",
       "       0.04078223, 0.0407715 , 0.04076081, 0.04075013, 0.04073948,\n",
       "       0.04072886, 0.04071826, 0.04070769, 0.04069714, 0.04068662,\n",
       "       0.04067612, 0.04066564, 0.04065519, 0.04064477, 0.04063437,\n",
       "       0.04062399, 0.04061364, 0.04060331, 0.040593  , 0.04058272,\n",
       "       0.04057247, 0.04056223, 0.04055203, 0.04054184, 0.04053168,\n",
       "       0.04052154, 0.04051143, 0.04050133, 0.04049127, 0.04048122,\n",
       "       0.0404712 , 0.0404612 , 0.04045122, 0.04044127, 0.04043134,\n",
       "       0.04042143, 0.04041155, 0.04040169, 0.04039185, 0.04038203,\n",
       "       0.04037224, 0.04036246, 0.04035271, 0.04034299, 0.04033328,\n",
       "       0.0403236 , 0.04031393, 0.04030429, 0.04029468, 0.04028508,\n",
       "       0.04027551, 0.04026595, 0.04025642, 0.04024691, 0.04023742,\n",
       "       0.04022796, 0.04021851, 0.04020909, 0.04019968, 0.0401903 ,\n",
       "       0.04018094, 0.0401716 , 0.04016228, 0.04015298, 0.0401437 ,\n",
       "       0.04013445, 0.04012521, 0.04011599, 0.0401068 , 0.04009763,\n",
       "       0.04008847, 0.04007934, 0.04007022, 0.04006113, 0.04005206,\n",
       "       0.04004301, 0.04003397, 0.04002496, 0.04001597, 0.040007  ,\n",
       "       0.03999804, 0.03998911, 0.0399802 , 0.0399713 , 0.03996243,\n",
       "       0.03995358, 0.03994474, 0.03993593, 0.03992713, 0.03991835,\n",
       "       0.0399096 , 0.03990086, 0.03989214, 0.03988344, 0.03987476,\n",
       "       0.0398661 , 0.03985746, 0.03984883, 0.03984023, 0.03983164,\n",
       "       0.03982308, 0.03981453, 0.039806  , 0.03979749, 0.03978899,\n",
       "       0.03978052, 0.03977207, 0.03976363, 0.03975521, 0.03974681,\n",
       "       0.03973843, 0.03973007, 0.03972172, 0.03971339, 0.03970508,\n",
       "       0.03969679, 0.03968852, 0.03968027, 0.03967203, 0.03966381,\n",
       "       0.03965561, 0.03964742, 0.03963926, 0.03963111, 0.03962298,\n",
       "       0.03961487, 0.03960677, 0.03959869, 0.03959063, 0.03958259,\n",
       "       0.03957456, 0.03956655, 0.03955856, 0.03955059, 0.03954263,\n",
       "       0.03953469, 0.03952677, 0.03951886, 0.03951097, 0.0395031 ,\n",
       "       0.03949525, 0.03948741, 0.03947959, 0.03947179, 0.039464  ,\n",
       "       0.03945623, 0.03944847, 0.03944074, 0.03943302, 0.03942531,\n",
       "       0.03941762, 0.03940995, 0.0394023 , 0.03939466, 0.03938704,\n",
       "       0.03937943, 0.03937184, 0.03936427, 0.03935671, 0.03934917,\n",
       "       0.03934164, 0.03933413, 0.03932664, 0.03931916, 0.0393117 ,\n",
       "       0.03930426, 0.03929683, 0.03928942, 0.03928202, 0.03927464,\n",
       "       0.03926727, 0.03925992, 0.03925258, 0.03924527, 0.03923796,\n",
       "       0.03923067, 0.0392234 , 0.03921614, 0.0392089 , 0.03920168,\n",
       "       0.03919446, 0.03918727, 0.03918009, 0.03917292, 0.03916577,\n",
       "       0.03915864, 0.03915152, 0.03914441, 0.03913732, 0.03913025,\n",
       "       0.03912319, 0.03911614, 0.03910911, 0.0391021 , 0.0390951 ,\n",
       "       0.03908811, 0.03908114, 0.03907419, 0.03906725, 0.03906032,\n",
       "       0.03905341, 0.03904651, 0.03903963, 0.03903276, 0.03902591,\n",
       "       0.03901907, 0.03901224, 0.03900543, 0.03899863, 0.03899185,\n",
       "       0.03898509, 0.03897833, 0.03897159, 0.03896487, 0.03895816,\n",
       "       0.03895146, 0.03894478, 0.03893811, 0.03893146, 0.03892482,\n",
       "       0.03891819, 0.03891158, 0.03890498, 0.03889839, 0.03889182,\n",
       "       0.03888527, 0.03887872, 0.03887219, 0.03886568, 0.03885918,\n",
       "       0.03885269, 0.03884621, 0.03883975, 0.0388333 , 0.03882687,\n",
       "       0.03882045, 0.03881404, 0.03880765, 0.03880127, 0.0387949 ,\n",
       "       0.03878855, 0.03878221, 0.03877588, 0.03876957, 0.03876327,\n",
       "       0.03875698, 0.03875071, 0.03874444, 0.0387382 , 0.03873196,\n",
       "       0.03872574, 0.03871953, 0.03871334, 0.03870715, 0.03870098,\n",
       "       0.03869483, 0.03868868, 0.03868255, 0.03867643, 0.03867033,\n",
       "       0.03866423, 0.03865815, 0.03865209, 0.03864603, 0.03863999,\n",
       "       0.03863396, 0.03862794, 0.03862194, 0.03861595, 0.03860997,\n",
       "       0.038604  , 0.03859805, 0.03859211, 0.03858618, 0.03858026,\n",
       "       0.03857435, 0.03856846, 0.03856258, 0.03855671, 0.03855086,\n",
       "       0.03854502, 0.03853918, 0.03853337, 0.03852756, 0.03852176,\n",
       "       0.03851598, 0.03851021, 0.03850445, 0.0384987 , 0.03849297,\n",
       "       0.03848725, 0.03848154, 0.03847584, 0.03847015, 0.03846448,\n",
       "       0.03845881, 0.03845316, 0.03844752, 0.03844189, 0.03843628,\n",
       "       0.03843067, 0.03842508, 0.0384195 , 0.03841393, 0.03840837,\n",
       "       0.03840282, 0.03839729, 0.03839176, 0.03838625, 0.03838075,\n",
       "       0.03837526, 0.03836978, 0.03836432, 0.03835886, 0.03835342,\n",
       "       0.03834799, 0.03834257, 0.03833716, 0.03833176, 0.03832637,\n",
       "       0.03832099, 0.03831563, 0.03831027, 0.03830493, 0.0382996 ,\n",
       "       0.03829428, 0.03828897, 0.03828367, 0.03827838, 0.03827311,\n",
       "       0.03826784, 0.03826259, 0.03825734, 0.03825211, 0.03824689,\n",
       "       0.03824168, 0.03823648, 0.03823129, 0.03822611, 0.03822094,\n",
       "       0.03821578, 0.03821064, 0.0382055 , 0.03820038, 0.03819526,\n",
       "       0.03819016, 0.03818506, 0.03817998, 0.03817491, 0.03816985,\n",
       "       0.0381648 , 0.03815975, 0.03815472, 0.0381497 , 0.03814469,\n",
       "       0.0381397 , 0.03813471, 0.03812973, 0.03812476, 0.0381198 ,\n",
       "       0.03811485, 0.03810992, 0.03810499, 0.03810007, 0.03809517,\n",
       "       0.03809027, 0.03808538, 0.03808051, 0.03807564, 0.03807079,\n",
       "       0.03806594, 0.0380611 , 0.03805628, 0.03805146, 0.03804666,\n",
       "       0.03804186, 0.03803707, 0.0380323 , 0.03802753, 0.03802277,\n",
       "       0.03801803, 0.03801329, 0.03800856, 0.03800385, 0.03799914,\n",
       "       0.03799444, 0.03798975, 0.03798508, 0.03798041, 0.03797575,\n",
       "       0.0379711 , 0.03796646, 0.03796183, 0.03795721, 0.0379526 ,\n",
       "       0.037948  , 0.0379434 , 0.03793882, 0.03793425, 0.03792969,\n",
       "       0.03792513, 0.03792059, 0.03791605, 0.03791153, 0.03790701])"
      ]
     },
     "execution_count": 28,
     "metadata": {},
     "output_type": "execute_result"
    }
   ],
   "source": [
    "cost"
   ]
  },
  {
   "cell_type": "code",
   "execution_count": 29,
   "metadata": {},
   "outputs": [
    {
     "data": {
      "text/plain": [
       "Text(0, 0.5, 'Cost')"
      ]
     },
     "execution_count": 29,
     "metadata": {},
     "output_type": "execute_result"
    },
    {
     "data": {
      "image/png": "[encoded data removed]",
      "text/plain": [
       "<Figure size 432x288 with 1 Axes>"
      ]
     },
     "metadata": {
      "needs_background": "light"
     },
     "output_type": "display_data"
    }
   ],
   "source": [
    "fig, ax = plt.subplots()  \n",
    "ax.plot(np.arange(iters), cost, 'r')  \n",
    "ax.set_xlabel('Iterations')  \n",
    "ax.set_ylabel('Cost') "
   ]
  },
  {
   "cell_type": "code",
   "execution_count": null,
   "metadata": {},
   "outputs": [],
   "source": []
  }
 ],
 "metadata": {
  "kernelspec": {
   "display_name": "Python 3",
   "language": "python",
   "name": "python3"
  },
  "language_info": {
   "codemirror_mode": {
    "name": "ipython",
    "version": 3
   },
   "file_extension": ".py",
   "mimetype": "text/x-python",
   "name": "python",
   "nbconvert_exporter": "python",
   "pygments_lexer": "ipython3",
   "version": "3.7.3"
  }
 },
 "nbformat": 4,
 "nbformat_minor": 2
}
