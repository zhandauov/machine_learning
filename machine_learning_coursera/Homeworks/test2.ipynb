{
 "cells": [
  {
   "cell_type": "code",
   "execution_count": 2,
   "metadata": {},
   "outputs": [],
   "source": [
    "import numpy as np\n",
    "import pandas as pd\n",
    "import matplotlib.pyplot as plt\n",
    "import random"
   ]
  },
  {
   "cell_type": "code",
   "execution_count": 26,
   "metadata": {},
   "outputs": [],
   "source": [
    "data = pd.read_csv('ex1data1.txt', header=None, sep=',')"
   ]
  },
  {
   "cell_type": "code",
   "execution_count": 52,
   "metadata": {},
   "outputs": [
    {
     "data": {
      "text/plain": [
       "count    97.000000\n",
       "mean      8.159800\n",
       "std       3.869884\n",
       "min       5.026900\n",
       "25%       5.707700\n",
       "50%       6.589400\n",
       "75%       8.578100\n",
       "max      22.203000\n",
       "Name: 0, dtype: float64"
      ]
     },
     "execution_count": 52,
     "metadata": {},
     "output_type": "execute_result"
    }
   ],
   "source": [
    "X = data[0]\n",
    "Y = data[1]\n",
    "X.describe()"
   ]
  },
  {
   "cell_type": "code",
   "execution_count": 28,
   "metadata": {
    "scrolled": true
   },
   "outputs": [
    {
     "data": {
      "image/png": "[encoded data removed]",
      "text/plain": [
       "<Figure size 432x288 with 1 Axes>"
      ]
     },
     "metadata": {
      "needs_background": "light"
     },
     "output_type": "display_data"
    }
   ],
   "source": [
    "plt.scatter(X,Y,s=10)\n",
    "plt.xlabel('x')\n",
    "plt.ylabel('y')\n",
    "plt.show()"
   ]
  },
  {
   "cell_type": "code",
   "execution_count": 59,
   "metadata": {},
   "outputs": [],
   "source": [
    "def h(theta0, theta1, x):\n",
    "    return theta0 + theta1*x"
   ]
  },
  {
   "cell_type": "code",
   "execution_count": 60,
   "metadata": {},
   "outputs": [],
   "source": [
    "theta0 = 0.0\n",
    "theta1 = 0.0\n",
    "lr = 0.01"
   ]
  },
  {
   "cell_type": "code",
   "execution_count": 61,
   "metadata": {},
   "outputs": [
    {
     "data": {
      "text/plain": [
       "[<matplotlib.lines.Line2D at 0x1d44cee6f28>]"
      ]
     },
     "execution_count": 61,
     "metadata": {},
     "output_type": "execute_result"
    },
    {
     "data": {
      "image/png": "[encoded data removed]",
      "text/plain": [
       "<Figure size 432x288 with 1 Axes>"
      ]
     },
     "metadata": {
      "needs_background": "light"
     },
     "output_type": "display_data"
    }
   ],
   "source": [
    "plt.plot(X, Y, 'ro')"
   ]
  },
  {
   "cell_type": "code",
   "execution_count": 71,
   "metadata": {},
   "outputs": [
    {
     "name": "stdout",
     "output_type": "stream",
     "text": [
      "-1.9181109020302571 0.9943552436448486\n"
     ]
    }
   ],
   "source": [
    "for _ in range(97):\n",
    "    dt0 = 0\n",
    "    dt1 = 0\n",
    "    for i in range(len(X)):\n",
    "        diff = h(theta0, theta1, X[i]) - Y[i]\n",
    "        dt0 += diff\n",
    "        dt1 += diff*X[i]\n",
    "\n",
    "    dt0 /= len(X)\n",
    "    dt1 /= len(X)\n",
    "\n",
    "    theta0 -= lr*dt0\n",
    "    theta1 -= lr*dt1\n",
    "\n",
    "print(theta0, theta1)\n",
    "\n",
    "_x = [5.026900, 22.203000]\n",
    "_y = [h(theta0, theta1, i) for i in _x]"
   ]
  },
  {
   "cell_type": "code",
   "execution_count": 72,
   "metadata": {},
   "outputs": [
    {
     "name": "stdout",
     "output_type": "stream",
     "text": [
      "3.0804134722480327\n",
      "20.159558572616316\n"
     ]
    }
   ],
   "source": [
    "for i in _y:\n",
    "    print(i)"
   ]
  },
  {
   "cell_type": "code",
   "execution_count": 73,
   "metadata": {},
   "outputs": [
    {
     "data": {
      "image/png": "[encoded data removed]",
      "text/plain": [
       "<Figure size 432x288 with 1 Axes>"
      ]
     },
     "metadata": {
      "needs_background": "light"
     },
     "output_type": "display_data"
    }
   ],
   "source": [
    "plt.plot(_x, _y)\n",
    "plt.plot(X, Y, 'ro')\n",
    "plt.show()"
   ]
  },
  {
   "cell_type": "code",
   "execution_count": 5,
   "metadata": {},
   "outputs": [
    {
     "name": "stdout",
     "output_type": "stream",
     "text": [
      "[298. 126.]\n",
      "[ 86. 475.]\n",
      "[457. 161.]\n",
      "[385. 426.]\n",
      "[100. 486.]\n",
      "[30. 81.]\n",
      "[425. 170.]\n",
      "[400. 265.]\n",
      "[ 48. 280.]\n",
      "[107. 103.]\n",
      "[403. 123.]\n",
      "[301. 152.]\n",
      "[468. 411.]\n",
      "[331. 310.]\n",
      "[155.   8.]\n",
      "[313. 248.]\n",
      "[211. 481.]\n",
      "[ 80. 111.]\n",
      "[283.  99.]\n",
      "[479. 411.]\n",
      "[428. 491.]\n",
      "[432. 135.]\n",
      "[255.  79.]\n",
      "[474. 249.]\n",
      "[438. 440.]\n",
      "[371. 129.]\n",
      "[462.  99.]\n",
      "[330. 258.]\n",
      "[250. 115.]\n",
      "[348. 459.]\n",
      "[ 37. 198.]\n",
      "[405. 317.]\n",
      "[329.  63.]\n",
      "[281. 433.]\n",
      "[306. 137.]\n",
      "[375. 245.]\n",
      "[194. 304.]\n",
      "[210. 287.]\n",
      "[162. 393.]\n",
      "[  8. 359.]\n",
      "[82. 56.]\n",
      "[323.  78.]\n",
      "[111. 393.]\n",
      "[  7. 455.]\n",
      "[ 45. 333.]\n",
      "[299. 304.]\n",
      "[453. 252.]\n",
      "[ 86. 207.]\n",
      "[372. 359.]\n",
      "[168. 278.]\n",
      "[193. 446.]\n",
      "[243. 282.]\n",
      "[379. 115.]\n",
      "[497. 292.]\n",
      "[462. 117.]\n",
      "[422. 126.]\n",
      "[251. 255.]\n",
      "[444. 483.]\n",
      "[366.  35.]\n",
      "[ 46. 472.]\n",
      "[ 97. 112.]\n",
      "[181. 491.]\n",
      "[170.  29.]\n",
      "[158.  74.]\n",
      "[477. 312.]\n",
      "[436. 191.]\n",
      "[168. 271.]\n",
      "[262.   6.]\n",
      "[272.  34.]\n",
      "[463. 200.]\n",
      "[213. 110.]\n",
      "[160. 443.]\n",
      "[10. 74.]\n",
      "[395. 228.]\n",
      "[400. 285.]\n",
      "[279. 228.]\n",
      "[210.  81.]\n",
      "[417. 449.]\n",
      "[251. 373.]\n",
      "[455.  64.]\n",
      "[496. 391.]\n",
      "[336. 139.]\n",
      "[189.  80.]\n",
      "[101. 463.]\n",
      "[312.  11.]\n",
      "[282. 416.]\n",
      "[228. 121.]\n",
      "[168.  34.]\n",
      "[251. 458.]\n",
      "[384. 470.]\n",
      "[256. 305.]\n",
      "[421. 100.]\n",
      "[419. 324.]\n",
      "[284. 103.]\n",
      "[85. 98.]\n",
      "[455. 234.]\n",
      "[193.  13.]\n",
      "[ 16. 282.]\n",
      "[  5. 162.]\n",
      "[353. 332.]\n"
     ]
    }
   ],
   "source": [
    "X = np.random.randint(500, size=(100, 2)).astype(dtype=np.float32)\n",
    "for i in X:\n",
    "    print(i)"
   ]
  },
  {
   "cell_type": "code",
   "execution_count": 2,
   "metadata": {},
   "outputs": [],
   "source": [
    "import random\n",
    "import numpy as np\n",
    "X = np.random.randint(500, size=(100, 2)).astype(dtype=np.float32)"
   ]
  },
  {
   "cell_type": "code",
   "execution_count": 6,
   "metadata": {},
   "outputs": [
    {
     "data": {
      "text/plain": [
       "155.0"
      ]
     },
     "execution_count": 6,
     "metadata": {},
     "output_type": "execute_result"
    }
   ],
   "source": [
    "X[0][0]"
   ]
  },
  {
   "cell_type": "code",
   "execution_count": null,
   "metadata": {},
   "outputs": [],
   "source": []
  }
 ],
 "metadata": {
  "kernelspec": {
   "display_name": "Python 3",
   "language": "python",
   "name": "python3"
  },
  "language_info": {
   "codemirror_mode": {
    "name": "ipython",
    "version": 3
   },
   "file_extension": ".py",
   "mimetype": "text/x-python",
   "name": "python",
   "nbconvert_exporter": "python",
   "pygments_lexer": "ipython3",
   "version": "3.7.3"
  }
 },
 "nbformat": 4,
 "nbformat_minor": 2
}
