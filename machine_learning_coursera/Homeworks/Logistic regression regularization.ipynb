{
 "cells": [
  {
   "cell_type": "markdown",
   "metadata": {},
   "source": [
    "## Logistic regression with regularization from scratch"
   ]
  },
  {
   "cell_type": "code",
   "execution_count": 3,
   "metadata": {},
   "outputs": [],
   "source": [
    "import pandas as pd\n",
    "import numpy as np\n",
    "import matplotlib.pyplot as plt\n",
    "\n",
    "df2 = pd.read_csv(r'C:\\Users\\usrer\\Desktop\\books for study\\4 КУРС\\мл\\ex2data1.txt', sep=',',header = None)"
   ]
  },
  {
   "cell_type": "code",
   "execution_count": 10,
   "metadata": {},
   "outputs": [
    {
     "data": {
      "text/html": [
       "<div>\n",
       "<style scoped>\n",
       "    .dataframe tbody tr th:only-of-type {\n",
       "        vertical-align: middle;\n",
       "    }\n",
       "\n",
       "    .dataframe tbody tr th {\n",
       "        vertical-align: top;\n",
       "    }\n",
       "\n",
       "    .dataframe thead th {\n",
       "        text-align: right;\n",
       "    }\n",
       "</style>\n",
       "<table border=\"1\" class=\"dataframe\">\n",
       "  <thead>\n",
       "    <tr style=\"text-align: right;\">\n",
       "      <th></th>\n",
       "      <th>0</th>\n",
       "      <th>1</th>\n",
       "      <th>2</th>\n",
       "    </tr>\n",
       "  </thead>\n",
       "  <tbody>\n",
       "    <tr>\n",
       "      <th>0</th>\n",
       "      <td>34.623660</td>\n",
       "      <td>78.024693</td>\n",
       "      <td>0</td>\n",
       "    </tr>\n",
       "    <tr>\n",
       "      <th>1</th>\n",
       "      <td>30.286711</td>\n",
       "      <td>43.894998</td>\n",
       "      <td>0</td>\n",
       "    </tr>\n",
       "    <tr>\n",
       "      <th>2</th>\n",
       "      <td>35.847409</td>\n",
       "      <td>72.902198</td>\n",
       "      <td>0</td>\n",
       "    </tr>\n",
       "    <tr>\n",
       "      <th>3</th>\n",
       "      <td>60.182599</td>\n",
       "      <td>86.308552</td>\n",
       "      <td>1</td>\n",
       "    </tr>\n",
       "    <tr>\n",
       "      <th>4</th>\n",
       "      <td>79.032736</td>\n",
       "      <td>75.344376</td>\n",
       "      <td>1</td>\n",
       "    </tr>\n",
       "  </tbody>\n",
       "</table>\n",
       "</div>"
      ],
      "text/plain": [
       "           0          1  2\n",
       "0  34.623660  78.024693  0\n",
       "1  30.286711  43.894998  0\n",
       "2  35.847409  72.902198  0\n",
       "3  60.182599  86.308552  1\n",
       "4  79.032736  75.344376  1"
      ]
     },
     "execution_count": 10,
     "metadata": {},
     "output_type": "execute_result"
    }
   ],
   "source": [
    "df2.head()"
   ]
  },
  {
   "cell_type": "code",
   "execution_count": 11,
   "metadata": {},
   "outputs": [
    {
     "data": {
      "text/plain": [
       "99.82785779692128"
      ]
     },
     "execution_count": 11,
     "metadata": {},
     "output_type": "execute_result"
    }
   ],
   "source": [
    "df2[0].max()"
   ]
  },
  {
   "cell_type": "code",
   "execution_count": 12,
   "metadata": {},
   "outputs": [
    {
     "data": {
      "text/plain": [
       "98.86943574220612"
      ]
     },
     "execution_count": 12,
     "metadata": {},
     "output_type": "execute_result"
    }
   ],
   "source": [
    "df2[1].max()"
   ]
  },
  {
   "cell_type": "code",
   "execution_count": 13,
   "metadata": {},
   "outputs": [],
   "source": [
    "#data normalization \n",
    "df2[0] = (df2[0].values - df2[0].min())/(df2[0].max()-df2[0].min())\n",
    "df2[1]= (df2[1].values - df2[1].min())/(df2[1].max()-df2[1].min())\n"
   ]
  },
  {
   "cell_type": "code",
   "execution_count": 14,
   "metadata": {},
   "outputs": [],
   "source": [
    "#creating features (x**2,x**3, etc)\n",
    "for i in range (25):\n",
    "    df2[i+3]= (df2[0].values)**2\n",
    "n=6\n",
    "for i in range(n+1):\n",
    "    df2[i+3]= (((df2[0].values)**(i)) * (df2[1].values)**(n-i))\n",
    "n=5\n",
    "for i in range(n+1):\n",
    "    df2[i+10]= (((df2[0].values)**(i+1)) * (df2[1].values)**(n-i))\n",
    "n=4\n",
    "for i in range(n+1):\n",
    "    df2[i+17]= (((df2[0].values)**(i+1)) * (df2[1].values)**(n-i))\n",
    "n=3\n",
    "for i in range(n+1):\n",
    "    df2[i+22]= (((df2[0].values)**(i+1)) * (df2[1].values)**(n-i))\n",
    "n=2\n",
    "for i in range(n+1):\n",
    "    df2[i+25]= (((df2[0].values)**(i+1)) * (df2[1].values)**(n-i))\n"
   ]
  },
  {
   "cell_type": "code",
   "execution_count": 24,
   "metadata": {},
   "outputs": [
    {
     "data": {
      "text/html": [
       "<div>\n",
       "<style scoped>\n",
       "    .dataframe tbody tr th:only-of-type {\n",
       "        vertical-align: middle;\n",
       "    }\n",
       "\n",
       "    .dataframe tbody tr th {\n",
       "        vertical-align: top;\n",
       "    }\n",
       "\n",
       "    .dataframe thead th {\n",
       "        text-align: right;\n",
       "    }\n",
       "</style>\n",
       "<table border=\"1\" class=\"dataframe\">\n",
       "  <thead>\n",
       "    <tr style=\"text-align: right;\">\n",
       "      <th></th>\n",
       "      <th>25</th>\n",
       "      <th>26</th>\n",
       "      <th>27</th>\n",
       "    </tr>\n",
       "  </thead>\n",
       "  <tbody>\n",
       "    <tr>\n",
       "      <th>0</th>\n",
       "      <td>0.031572</td>\n",
       "      <td>0.002974</td>\n",
       "      <td>2.800836e-04</td>\n",
       "    </tr>\n",
       "    <tr>\n",
       "      <th>1</th>\n",
       "      <td>0.000124</td>\n",
       "      <td>0.000002</td>\n",
       "      <td>3.484802e-08</td>\n",
       "    </tr>\n",
       "    <tr>\n",
       "      <th>2</th>\n",
       "      <td>0.031854</td>\n",
       "      <td>0.004265</td>\n",
       "      <td>5.711227e-04</td>\n",
       "    </tr>\n",
       "    <tr>\n",
       "      <th>3</th>\n",
       "      <td>0.287494</td>\n",
       "      <td>0.152119</td>\n",
       "      <td>8.048966e-02</td>\n",
       "    </tr>\n",
       "    <tr>\n",
       "      <th>4</th>\n",
       "      <td>0.301512</td>\n",
       "      <td>0.322928</td>\n",
       "      <td>3.458647e-01</td>\n",
       "    </tr>\n",
       "  </tbody>\n",
       "</table>\n",
       "</div>"
      ],
      "text/plain": [
       "         25        26            27\n",
       "0  0.031572  0.002974  2.800836e-04\n",
       "1  0.000124  0.000002  3.484802e-08\n",
       "2  0.031854  0.004265  5.711227e-04\n",
       "3  0.287494  0.152119  8.048966e-02\n",
       "4  0.301512  0.322928  3.458647e-01"
      ]
     },
     "execution_count": 24,
     "metadata": {},
     "output_type": "execute_result"
    }
   ],
   "source": [
    "df2.iloc[:5,25:]"
   ]
  },
  {
   "cell_type": "code",
   "execution_count": 85,
   "metadata": {
    "scrolled": true
   },
   "outputs": [],
   "source": [
    "X = df2[[0,1,3,4,5,6,7,8,9,10,11,12,13,14,15,16,17,18,19,20,21,22,23,24,25,26,27]]\n",
    "X=np.concatenate((np.ones((X.shape[0], 1)), X), axis=1)\n",
    "Y = df2[2]\n",
    "m=len(Y)\n",
    "itera =400\n",
    "iterq = list(range(itera))\n",
    "theta =np.zeros(X.shape[1])\n",
    "costt = np.zeros((itera))\n",
    "alpha =0.001\n",
    "lemda = 1"
   ]
  },
  {
   "cell_type": "code",
   "execution_count": 86,
   "metadata": {
    "scrolled": true
   },
   "outputs": [],
   "source": [
    "for i in range(itera):\n",
    "        thetax=np.dot(X,theta)\n",
    "        hyp =1/(1+np.exp(-thetax))\n",
    "        cost =(1/m) * np.sum((-Y*np.log(hyp)-(1-Y)*np.log(1-hyp))) + lemda *np.sum((theta)**2)\n",
    "        costt[i] =(1/m) * np.sum((-Y*np.log(hyp)-(1-Y)*np.log(1-hyp))) + lemda *np.sum((theta)**2)\n",
    "        grad = np.dot(X.T, (hyp - Y)) / m + lemda/m * theta\n",
    "        theta= theta -alpha * grad"
   ]
  },
  {
   "cell_type": "code",
   "execution_count": 87,
   "metadata": {},
   "outputs": [
    {
     "data": {
      "text/plain": [
       "[<matplotlib.lines.Line2D at 0xb8d0a90>]"
      ]
     },
     "execution_count": 87,
     "metadata": {},
     "output_type": "execute_result"
    },
    {
     "data": {
      "image/png": "[encoded data removed]",
      "text/plain": [
       "<Figure size 432x288 with 1 Axes>"
      ]
     },
     "metadata": {
      "needs_background": "light"
     },
     "output_type": "display_data"
    }
   ],
   "source": [
    "#dependence of cost over iteration\n",
    "plt.plot(iterq,costt)"
   ]
  },
  {
   "cell_type": "code",
   "execution_count": 34,
   "metadata": {
    "scrolled": true
   },
   "outputs": [
    {
     "data": {
      "text/plain": [
       "array([0.03250943, 0.04680678, 0.0435666 , 0.01881518, 0.01501469,\n",
       "       0.01197695, 0.01086187, 0.01137424, 0.01379389, 0.01827288,\n",
       "       0.01501469, 0.01197695, 0.01086187, 0.01137424, 0.01379389,\n",
       "       0.01827288, 0.03811358, 0.01803186, 0.01513687, 0.01469617,\n",
       "       0.01672401, 0.02114694, 0.02230514, 0.01999689, 0.02108384,\n",
       "       0.02859098, 0.02778043, 0.03056716])"
      ]
     },
     "execution_count": 34,
     "metadata": {},
     "output_type": "execute_result"
    }
   ],
   "source": [
    "theta"
   ]
  },
  {
   "cell_type": "code",
   "execution_count": 416,
   "metadata": {
    "scrolled": true
   },
   "outputs": [],
   "source": [
    "def predict( X, threshold=0):\n",
    "        return np.dot(X, theta) >= threshold"
   ]
  },
  {
   "cell_type": "code",
   "execution_count": 418,
   "metadata": {},
   "outputs": [
    {
     "data": {
      "text/plain": [
       "False"
      ]
     },
     "execution_count": 418,
     "metadata": {},
     "output_type": "execute_result"
    }
   ],
   "source": [
    "predict([2,-3,1])"
   ]
  },
  {
   "cell_type": "markdown",
   "metadata": {},
   "source": [
    "## Homework"
   ]
  },
  {
   "cell_type": "code",
   "execution_count": 4,
   "metadata": {},
   "outputs": [],
   "source": [
    "tabl = {'gmat': [780,750,690,710,680,730,690,720,740,690,610,690,710,680,770,610,580,650,540,590,620,600,550,550,570,670,660,640,620,660,660,680,650,670,580,590,690,550,200,580,680,695,540,500,600,700,620,530,690,720,780,690 ],\"gpa\":[4,3.9,3.3,3.7,3.9,3.7,2.3,3.3,3.3,1.7,2.7,3.7,3.7,3.3,3.3,3,2.7,3.7,2.7,2.3,3.3,3,2.7,2.5,2.6,3.5,4,3.3,3.3,2.3,2.7,3.3,1.7,3.7,1.5,2.5,3.4,4,1.3,2.5,3,4,2.4,1.9,2.8,4,3.3,4,3.7,3.9,4,2.4], \"work_experience\": [3,4,3,5,4,6,1,4,5,1,3,5,6,4,3,1,4,6,2,3,2,1,4,1,2,6,4,6,5,1,2,1,4,5,6,4,3,2,6,6,2,3,1,2,5,6,4,3,1,5,2,3],\"admitted\":[1,1,1,1,1,1,1,0,1,1,0,0,1,1,1,1,0,1,1,0,0,1,1,1,0,1,1,1,1,0,1,1,0,1,1,0,0,0,1,1,0,0,0,0,1,1,1,0,0,1,1,0]}\n",
    "df = pd.DataFrame(tabl)"
   ]
  },
  {
   "cell_type": "code",
   "execution_count": 5,
   "metadata": {},
   "outputs": [
    {
     "data": {
      "text/html": [
       "<div>\n",
       "<style scoped>\n",
       "    .dataframe tbody tr th:only-of-type {\n",
       "        vertical-align: middle;\n",
       "    }\n",
       "\n",
       "    .dataframe tbody tr th {\n",
       "        vertical-align: top;\n",
       "    }\n",
       "\n",
       "    .dataframe thead th {\n",
       "        text-align: right;\n",
       "    }\n",
       "</style>\n",
       "<table border=\"1\" class=\"dataframe\">\n",
       "  <thead>\n",
       "    <tr style=\"text-align: right;\">\n",
       "      <th></th>\n",
       "      <th>gmat</th>\n",
       "      <th>gpa</th>\n",
       "      <th>work_experience</th>\n",
       "      <th>admitted</th>\n",
       "    </tr>\n",
       "  </thead>\n",
       "  <tbody>\n",
       "    <tr>\n",
       "      <th>0</th>\n",
       "      <td>780</td>\n",
       "      <td>4.0</td>\n",
       "      <td>3</td>\n",
       "      <td>1</td>\n",
       "    </tr>\n",
       "    <tr>\n",
       "      <th>1</th>\n",
       "      <td>750</td>\n",
       "      <td>3.9</td>\n",
       "      <td>4</td>\n",
       "      <td>1</td>\n",
       "    </tr>\n",
       "    <tr>\n",
       "      <th>2</th>\n",
       "      <td>690</td>\n",
       "      <td>3.3</td>\n",
       "      <td>3</td>\n",
       "      <td>1</td>\n",
       "    </tr>\n",
       "    <tr>\n",
       "      <th>3</th>\n",
       "      <td>710</td>\n",
       "      <td>3.7</td>\n",
       "      <td>5</td>\n",
       "      <td>1</td>\n",
       "    </tr>\n",
       "    <tr>\n",
       "      <th>4</th>\n",
       "      <td>680</td>\n",
       "      <td>3.9</td>\n",
       "      <td>4</td>\n",
       "      <td>1</td>\n",
       "    </tr>\n",
       "  </tbody>\n",
       "</table>\n",
       "</div>"
      ],
      "text/plain": [
       "   gmat  gpa  work_experience  admitted\n",
       "0   780  4.0                3         1\n",
       "1   750  3.9                4         1\n",
       "2   690  3.3                3         1\n",
       "3   710  3.7                5         1\n",
       "4   680  3.9                4         1"
      ]
     },
     "execution_count": 5,
     "metadata": {},
     "output_type": "execute_result"
    }
   ],
   "source": [
    "df.head()"
   ]
  },
  {
   "cell_type": "code",
   "execution_count": 18,
   "metadata": {},
   "outputs": [],
   "source": [
    "df['gmat'] = (df['gmat'].values - df['gmat'].min())/(df['gmat'].max()-df['gmat'].min())\n",
    "df['gpa']= (df['gpa'].values - df['gpa'].min())/(df['gpa'].max()-df['gpa'].min())\n",
    "df['work_experience'] = (df['work_experience'].values - df['work_experience'].min())/(df['work_experience'].max()-df['work_experience'].min())\n",
    "X2 = df[['gmat','gpa','work_experience']]\n",
    "X2=np.concatenate((np.ones((X2.shape[0], 1)), X2), axis=1)\n",
    "Y2 = df['admitted']\n",
    "n=len(Y2)\n",
    "itera2 =4000\n",
    "costt = np.zeros((itera2))\n",
    "iterq = list(range(itera2))\n",
    "theta2 =np.zeros(X2.shape[1])\n",
    "alpha =0.001"
   ]
  },
  {
   "cell_type": "code",
   "execution_count": 19,
   "metadata": {},
   "outputs": [],
   "source": [
    "for i in range(itera2):\n",
    "        \n",
    "        thetax2=np.dot(X2,theta2)\n",
    "        hyp2 =1/(1+np.exp(-thetax2))\n",
    "        cost2 =(1/n) * np.sum((-Y2*np.log(hyp2)-(1-Y2)*np.log(1-hyp2)))\n",
    "        costt[i] =(1/n) * np.sum((-Y2*np.log(hyp2)-(1-Y2)*np.log(1-hyp2)))\n",
    "        grad2 = np.dot(X2.T, (hyp2 - Y2)) / n\n",
    "        theta2= theta2 -alpha * grad2"
   ]
  },
  {
   "cell_type": "code",
   "execution_count": 20,
   "metadata": {},
   "outputs": [
    {
     "data": {
      "text/plain": [
       "[<matplotlib.lines.Line2D at 0x9786128>]"
      ]
     },
     "execution_count": 20,
     "metadata": {},
     "output_type": "execute_result"
    },
    {
     "data": {
      "image/png": "[encoded data removed]",
      "text/plain": [
       "<Figure size 432x288 with 1 Axes>"
      ]
     },
     "metadata": {
      "needs_background": "light"
     },
     "output_type": "display_data"
    }
   ],
   "source": [
    "plt.plot(iterq,costt)"
   ]
  }
 ],
 "metadata": {
  "kernelspec": {
   "display_name": "Python 3",
   "language": "python",
   "name": "python3"
  },
  "language_info": {
   "codemirror_mode": {
    "name": "ipython",
    "version": 3
   },
   "file_extension": ".py",
   "mimetype": "text/x-python",
   "name": "python",
   "nbconvert_exporter": "python",
   "pygments_lexer": "ipython3",
   "version": "3.7.3"
  }
 },
 "nbformat": 4,
 "nbformat_minor": 2
}
