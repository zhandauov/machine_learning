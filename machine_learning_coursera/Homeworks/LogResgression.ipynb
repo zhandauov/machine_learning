{
 "cells": [
  {
   "cell_type": "code",
   "execution_count": 1,
   "metadata": {},
   "outputs": [],
   "source": [
    "import pandas as pd\n",
    "import numpy as np\n",
    "import matplotlib.pyplot as plt"
   ]
  },
  {
   "cell_type": "code",
   "execution_count": 2,
   "metadata": {},
   "outputs": [],
   "source": [
    "dataset = pd.read_csv('ex2data1.txt', sep = ',')"
   ]
  },
  {
   "cell_type": "code",
   "execution_count": 3,
   "metadata": {},
   "outputs": [],
   "source": [
    "dataset.columns = ['x1', 'x2', 'y'] "
   ]
  },
  {
   "cell_type": "code",
   "execution_count": 4,
   "metadata": {},
   "outputs": [],
   "source": [
    "x1 = dataset['x1']\n",
    "x2 = dataset['x2']\n",
    "Y = dataset['y']"
   ]
  },
  {
   "cell_type": "code",
   "execution_count": 5,
   "metadata": {},
   "outputs": [
    {
     "data": {
      "text/plain": [
       "(100,)"
      ]
     },
     "execution_count": 5,
     "metadata": {},
     "output_type": "execute_result"
    }
   ],
   "source": [
    "x1.shape"
   ]
  },
  {
   "cell_type": "code",
   "execution_count": 28,
   "metadata": {},
   "outputs": [],
   "source": [
    "X = np.stack([np.ones(x1.shape[0]), x1, x2]).T\n",
    "theta = np.array([0., 0., 0.])\n",
    "lr = 0.03"
   ]
  },
  {
   "cell_type": "code",
   "execution_count": 19,
   "metadata": {},
   "outputs": [],
   "source": [
    "def sigma(z):\n",
    "    return 1/(1 + np.exp(-z))"
   ]
  },
  {
   "cell_type": "code",
   "execution_count": 20,
   "metadata": {},
   "outputs": [],
   "source": [
    "dw_s=0\n",
    "for _ in range(10000):\n",
    "    Z = X.dot(theta)\n",
    "    a = sigma(Z)\n",
    "    dz = a - Y\n",
    "    dw = X.T.dot(dz)/len(dataset)\n",
    "    dw_s = dw_s*0.9 + 0.1*dw\n",
    "    theta -= lr*dw_s"
   ]
  },
  {
   "cell_type": "code",
   "execution_count": 21,
   "metadata": {},
   "outputs": [
    {
     "name": "stdout",
     "output_type": "stream",
     "text": [
      "[-10.80911549   0.09184874   0.08566432]\n"
     ]
    }
   ],
   "source": [
    "print(theta)\n",
    "aa = -theta[1]/theta[2]\n",
    "bb = -theta[0]/theta[2]\n",
    "def g(x):\n",
    "    return aa*x + bb"
   ]
  },
  {
   "cell_type": "code",
   "execution_count": 23,
   "metadata": {
    "scrolled": true
   },
   "outputs": [
    {
     "data": {
      "image/png": "[encoded data removed]",
      "text/plain": [
       "<Figure size 432x288 with 1 Axes>"
      ]
     },
     "metadata": {
      "needs_background": "light"
     },
     "output_type": "display_data"
    }
   ],
   "source": [
    "i = 0\n",
    "while(i < len(x1)):\n",
    "    if dataset['y'][i] == 1:\n",
    "        plt.plot(dataset['x1'][i], dataset['x2'][i], 'ro')\n",
    "    else:\n",
    "        plt.plot(dataset['x1'][i], dataset['x2'][i], 'bo')\n",
    "    i = i + 1\n",
    "\n",
    "#plt.plot(x1[red], x2[red], 'ro')\n",
    "#plt.plot(x1[blue], x2[blue], 'bo')\n",
    "_x = [25, 100]\n",
    "_y = [g(i) for i in _x]\n",
    "plt.plot(_x, _y)\n",
    "\n",
    "plt.show()"
   ]
  },
  {
   "cell_type": "code",
   "execution_count": null,
   "metadata": {},
   "outputs": [],
   "source": []
  }
 ],
 "metadata": {
  "kernelspec": {
   "display_name": "Python 3",
   "language": "python",
   "name": "python3"
  },
  "language_info": {
   "codemirror_mode": {
    "name": "ipython",
    "version": 3
   },
   "file_extension": ".py",
   "mimetype": "text/x-python",
   "name": "python",
   "nbconvert_exporter": "python",
   "pygments_lexer": "ipython3",
   "version": "3.7.3"
  }
 },
 "nbformat": 4,
 "nbformat_minor": 2
}
